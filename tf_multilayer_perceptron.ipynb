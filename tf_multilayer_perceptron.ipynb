{
 "cells": [
  {
   "cell_type": "markdown",
   "metadata": {},
   "source": [
    "必要的package"
   ]
  },
  {
   "cell_type": "code",
   "execution_count": 31,
   "metadata": {
    "collapsed": true
   },
   "outputs": [],
   "source": [
    "import tensorflow as tf\n",
    "import pandas as pd\n",
    "from numpy import random as nr\n",
    "from sklearn.model_selection import train_test_split\n",
    "from sklearn.preprocessing import OneHotEncoder  \n",
    "import types\n",
    "from __future__ import print_function"
   ]
  },
  {
   "cell_type": "markdown",
   "metadata": {
    "collapsed": true
   },
   "source": [
    "一些常量的定义"
   ]
  },
  {
   "cell_type": "code",
   "execution_count": 32,
   "metadata": {
    "collapsed": true
   },
   "outputs": [],
   "source": [
    "img_size=28*28\n",
    "learning_rate=1e-6\n",
    "batch_size=500\n",
    "num_data=42000"
   ]
  },
  {
   "cell_type": "markdown",
   "metadata": {},
   "source": [
    "读入训练数据"
   ]
  },
  {
   "cell_type": "code",
   "execution_count": 33,
   "metadata": {
    "collapsed": false
   },
   "outputs": [],
   "source": [
    "labeled_images = pd.read_csv('./input/train.csv')\n",
    "#images = labeled_images.iloc[0:5000,1:]\n",
    "#labels = labeled_images.iloc[0:5000,:1]\n"
   ]
  },
  {
   "cell_type": "code",
   "execution_count": 34,
   "metadata": {
    "collapsed": true
   },
   "outputs": [],
   "source": [
    "images = labeled_images.iloc[:,1:]\n",
    "labels = labeled_images.iloc[:,:1]"
   ]
  },
  {
   "cell_type": "markdown",
   "metadata": {},
   "source": [
    "切割数据集"
   ]
  },
  {
   "cell_type": "code",
   "execution_count": 35,
   "metadata": {
    "collapsed": false
   },
   "outputs": [],
   "source": [
    "(train_images, test_images,train_labels, test_labels) = train_test_split(images, labels, train_size=0.8, random_state=0)\n",
    "#将DataFrame转换为matrix"
   ]
  },
  {
   "cell_type": "code",
   "execution_count": 36,
   "metadata": {
    "collapsed": true
   },
   "outputs": [],
   "source": [
    "training_images=train_images.as_matrix()\n",
    "training_labels=train_labels.as_matrix()\n",
    "testing_images=test_images.as_matrix()\n",
    "testing_labels=test_labels.as_matrix()"
   ]
  },
  {
   "cell_type": "markdown",
   "metadata": {},
   "source": [
    "onehot encoding"
   ]
  },
  {
   "cell_type": "code",
   "execution_count": 37,
   "metadata": {
    "collapsed": false
   },
   "outputs": [
    {
     "name": "stdout",
     "output_type": "stream",
     "text": [
      "enc.n_values_ is: [10]\n"
     ]
    }
   ],
   "source": [
    "enc = OneHotEncoder()  \n",
    "enc.fit(training_labels)  \n",
    "print(\"enc.n_values_ is:\",enc.n_values_  )\n",
    "training_labels_onehot=enc.transform(training_labels).toarray()\n",
    "testing_labels_onehot=enc.transform(testing_labels).toarray()"
   ]
  },
  {
   "cell_type": "markdown",
   "metadata": {},
   "source": [
    "构建图"
   ]
  },
  {
   "cell_type": "code",
   "execution_count": 38,
   "metadata": {
    "collapsed": false
   },
   "outputs": [],
   "source": [
    "x=tf.placeholder(\"float\",[None,784])#[none,img_size]表示在tf运行时能输入任意形数量的images,每张image尺寸为img_size\n",
    "#模型参数，初始值均为零\n",
    "W = tf.Variable(tf.zeros([784,10]))#权重值\n",
    "b = tf.Variable(tf.zeros([10]))#偏置量\n",
    "y = tf.nn.softmax(tf.matmul(x,W) + b)"
   ]
  },
  {
   "cell_type": "markdown",
   "metadata": {},
   "source": [
    "训练模型"
   ]
  },
  {
   "cell_type": "code",
   "execution_count": 39,
   "metadata": {
    "collapsed": false
   },
   "outputs": [],
   "source": [
    "y_ = tf.placeholder(\"float\", [None,10])#正确的标签\n",
    "cross_entropy = -tf.reduce_sum(y_*tf.log(y+1e-10))#\n",
    "train_step = tf.train.GradientDescentOptimizer(learning_rate).minimize(cross_entropy)\n",
    "init = tf.global_variables_initializer()"
   ]
  },
  {
   "cell_type": "code",
   "execution_count": 40,
   "metadata": {
    "collapsed": false
   },
   "outputs": [
    {
     "name": "stdout",
     "output_type": "stream",
     "text": [
      "Epoch: 0001 cost= 1151.291381836\n",
      "Epoch: 0051 cost= 2712.802978516\n",
      "Epoch: 0101 cost= 2210.598632812\n",
      "Epoch: 0151 cost= 2515.295898438\n",
      "Epoch: 0201 cost= 1861.976684570\n",
      "Epoch: 0251 cost= 1381.706298828\n",
      "Epoch: 0301 cost= 1497.905029297\n",
      "Epoch: 0351 cost= 1875.455566406\n",
      "Epoch: 0401 cost= 1559.579589844\n",
      "Epoch: 0451 cost= 1345.133666992\n",
      "Epoch: 0501 cost= 1946.775634766\n",
      "Epoch: 0551 cost= 932.602905273\n",
      "Epoch: 0601 cost= 730.054626465\n",
      "Epoch: 0651 cost= 1566.018310547\n",
      "Epoch: 0701 cost= 625.769287109\n",
      "Epoch: 0751 cost= 658.143676758\n",
      "Epoch: 0801 cost= 722.992309570\n",
      "Epoch: 0851 cost= 436.619812012\n",
      "Epoch: 0901 cost= 683.665100098\n",
      "Epoch: 0951 cost= 473.338684082\n",
      "0.908929\n"
     ]
    }
   ],
   "source": [
    "sess = tf.Session()\n",
    "sess.run(init)\n",
    "for i in range(1000):\n",
    "    batch_indices=nr.choice(range(int(num_data*0.5)),batch_size)\n",
    "    batch_xs=training_images[batch_indices,:]\n",
    "    batch_ys=training_labels_onehot[batch_indices,:]\n",
    "    \n",
    "    _,c,W1,b1,y1,y2=sess.run([train_step,cross_entropy,W,b,y,y_], feed_dict={x: batch_xs, y_: batch_ys})\n",
    "    if i % 50 == 0:\n",
    "        print(\"Epoch:\", '%04d' % (i+1), \"cost=\", \\\n",
    "              \"{:.9f}\".format(c))\n",
    "        #print(\"W:\",W1)\n",
    "        #print(\"b:\",b1)\n",
    "        #print(\"y:\",y1)\n",
    "        #print(\"y_:\",y2)\n",
    "\n",
    "correct_prediction = tf.equal(tf.argmax(y,1), tf.argmax(y_,1))\n",
    "accuracy = tf.reduce_mean(tf.cast(correct_prediction, \"float\"))\n",
    "print(sess.run(accuracy, feed_dict={x: testing_images, y_: testing_labels_onehot}))\n",
    "\n",
    "\n"
   ]
  }
 ],
 "metadata": {
  "anaconda-cloud": {},
  "kernelspec": {
   "display_name": "Python 3",
   "language": "python",
   "name": "python3"
  },
  "language_info": {
   "codemirror_mode": {
    "name": "ipython",
    "version": 3
   },
   "file_extension": ".py",
   "mimetype": "text/x-python",
   "name": "python",
   "nbconvert_exporter": "python",
   "pygments_lexer": "ipython3",
   "version": "3.5.2"
  }
 },
 "nbformat": 4,
 "nbformat_minor": 1
}
