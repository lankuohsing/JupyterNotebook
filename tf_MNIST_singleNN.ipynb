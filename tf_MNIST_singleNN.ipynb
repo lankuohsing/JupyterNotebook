{
 "cells": [
  {
   "cell_type": "markdown",
   "metadata": {},
   "source": [
    "单层神经网络 MNIST"
   ]
  },
  {
   "cell_type": "code",
   "execution_count": 89,
   "metadata": {
    "collapsed": true
   },
   "outputs": [],
   "source": [
    "#packages\n",
    "import tensorflow as tf\n",
    "import pandas as pd\n",
    "from numpy import random as nr\n",
    "from sklearn.model_selection import train_test_split\n",
    "from sklearn.preprocessing import OneHotEncoder  "
   ]
  },
  {
   "cell_type": "code",
   "execution_count": 90,
   "metadata": {
    "collapsed": true
   },
   "outputs": [],
   "source": [
    "#一些常量的定义\n",
    "img_size=28*28\n",
    "learning_rate=1e-8\n",
    "batch_size=1000\n",
    "num_data=42000\n",
    "train_size=0.8\n",
    "display_step=50"
   ]
  },
  {
   "cell_type": "code",
   "execution_count": 91,
   "metadata": {
    "collapsed": true
   },
   "outputs": [],
   "source": [
    "def read_data(filename):#用于读取数据的函数\n",
    "    labeled_images = pd.read_csv(filename)\n",
    "    [num_sample,num_feature]=labeled_images.shape\n",
    "    images = labeled_images.iloc[:,1:]\n",
    "    labels = labeled_images.iloc[:,:1]\n",
    "    return (images,labels,num_sample,num_feature)"
   ]
  },
  {
   "cell_type": "code",
   "execution_count": 92,
   "metadata": {
    "collapsed": true
   },
   "outputs": [],
   "source": [
    "filename='./input/train.csv'\n",
    "(images,labels,num_sample,num_feature)=read_data(filename)"
   ]
  },
  {
   "cell_type": "code",
   "execution_count": 93,
   "metadata": {
    "collapsed": false
   },
   "outputs": [],
   "source": [
    "#切割数据集\n",
    "(train_images, test_images,train_labels, test_labels) = train_test_split(images, labels, train_size=train_size, random_state=0)"
   ]
  },
  {
   "cell_type": "code",
   "execution_count": 94,
   "metadata": {
    "collapsed": true
   },
   "outputs": [],
   "source": [
    "#将DataFrame转化为Matrix\n",
    "training_images=train_images.as_matrix()\n",
    "training_labels=train_labels.as_matrix()\n",
    "testing_images=test_images.as_matrix()\n",
    "testing_labels=test_labels.as_matrix()"
   ]
  },
  {
   "cell_type": "code",
   "execution_count": 95,
   "metadata": {
    "collapsed": false
   },
   "outputs": [
    {
     "name": "stdout",
     "output_type": "stream",
     "text": [
      "enc.n_values_ is: [10]\n"
     ]
    }
   ],
   "source": [
    "#OneHot encoding\n",
    "enc = OneHotEncoder()  \n",
    "enc.fit(training_labels)  \n",
    "print(\"enc.n_values_ is:\",enc.n_values_  )\n",
    "num_class=enc.n_values_#类别数量\n",
    "training_labels_onehot=enc.transform(training_labels).toarray()\n",
    "testing_labels_onehot=enc.transform(testing_labels).toarray()"
   ]
  },
  {
   "cell_type": "code",
   "execution_count": 96,
   "metadata": {
    "collapsed": false
   },
   "outputs": [],
   "source": [
    "#构建图\n",
    "x=tf.placeholder(\"float\",[None,img_size])#[none,img_size]表示在tf运行时能输入任意形数量的images,每张image尺寸为img_size\n",
    "#模型参数，初始值均为零\n",
    "W = tf.Variable(tf.zeros([img_size,num_class]))#权重值\n",
    "b = tf.Variable(tf.zeros([num_class]))#偏置量\n",
    "y = tf.nn.softmax(tf.matmul(x,W) + b)"
   ]
  },
  {
   "cell_type": "code",
   "execution_count": 97,
   "metadata": {
    "collapsed": true
   },
   "outputs": [],
   "source": [
    "#训练模型\n",
    "y_ = tf.placeholder(\"float\", [None,num_class])#正确的标签\n",
    "cross_entropy = -tf.reduce_sum(y_*tf.log(y+1e-10))#\n",
    "train_step = tf.train.GradientDescentOptimizer(learning_rate=learning_rate).minimize(cross_entropy)\n",
    "init = tf.global_variables_initializer()"
   ]
  },
  {
   "cell_type": "code",
   "execution_count": 98,
   "metadata": {
    "collapsed": false
   },
   "outputs": [
    {
     "name": "stdout",
     "output_type": "stream",
     "text": [
      "Epoch: 0001 cost= 2302.585693359\n",
      "Epoch: 0051 cost= 450.684143066\n",
      "Epoch: 0101 cost= 398.811584473\n",
      "Epoch: 0151 cost= 340.754241943\n",
      "Epoch: 0201 cost= 288.199462891\n",
      "Epoch: 0251 cost= 341.147369385\n",
      "Epoch: 0301 cost= 331.492187500\n",
      "Epoch: 0351 cost= 299.091247559\n",
      "Epoch: 0401 cost= 306.127532959\n",
      "Epoch: 0451 cost= 340.159240723\n",
      "Epoch: 0501 cost= 259.674713135\n",
      "Epoch: 0551 cost= 267.491943359\n",
      "Epoch: 0601 cost= 294.349517822\n",
      "Epoch: 0651 cost= 326.841735840\n",
      "Epoch: 0701 cost= 269.427124023\n",
      "Epoch: 0751 cost= 278.534790039\n",
      "Epoch: 0801 cost= 274.865814209\n",
      "Epoch: 0851 cost= 282.965301514\n",
      "Epoch: 0901 cost= 276.925964355\n",
      "Epoch: 0951 cost= 303.285095215\n",
      "0.917976\n"
     ]
    }
   ],
   "source": [
    "with tf.Session() as sess:\n",
    "    sess.run(init)\n",
    "    for i in range(1000):\n",
    "        batch_indices=nr.choice(range(int(num_data*train_size)),batch_size)\n",
    "        batch_xs=training_images[batch_indices,:]\n",
    "        batch_ys=training_labels_onehot[batch_indices,:]\n",
    "\n",
    "        _,c,W1,b1,y1,y2=sess.run([train_step,cross_entropy,W,b,y,y_], feed_dict={x: batch_xs, y_: batch_ys})\n",
    "        if i % display_step == 0:\n",
    "            print(\"Epoch:\", '%04d' % (i+1), \"cost=\", \\\n",
    "                  \"{:.9f}\".format(c))\n",
    "            #print(\"W:\",W1)\n",
    "            #print(\"b:\",b1)\n",
    "            #print(\"y:\",y1)\n",
    "            #print(\"y_:\",y2)\n",
    "\n",
    "    correct_prediction = tf.equal(tf.argmax(y,1), tf.argmax(y_,1))\n",
    "    accuracy = tf.reduce_mean(tf.cast(correct_prediction, \"float\"))\n",
    "    #print(sess.run(accuracy, feed_dict={x: testing_images, y_: testing_labels_onehot}))\n",
    "    \n",
    "    print(accuracy.eval({x: testing_images, y_: testing_labels_onehot}))\n",
    "    \n",
    "    \n"
   ]
  }
 ],
 "metadata": {
  "anaconda-cloud": {},
  "kernelspec": {
   "display_name": "Python [default]",
   "language": "python",
   "name": "python3"
  },
  "language_info": {
   "codemirror_mode": {
    "name": "ipython",
    "version": 3
   },
   "file_extension": ".py",
   "mimetype": "text/x-python",
   "name": "python",
   "nbconvert_exporter": "python",
   "pygments_lexer": "ipython3",
   "version": "3.5.3"
  }
 },
 "nbformat": 4,
 "nbformat_minor": 1
}
