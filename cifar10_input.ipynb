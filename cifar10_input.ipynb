{
 "cells": [
  {
   "cell_type": "code",
   "execution_count": 1,
   "metadata": {
    "collapsed": false
   },
   "outputs": [],
   "source": [
    "from __future__ import absolute_import\n",
    "from __future__ import division\n",
    "from __future__ import print_function\n",
    "import os\n",
    "import tensorflow.python.platform\n",
    "from six.moves import xrange  # pylint: disable=redefined-builtin\n",
    "import tensorflow as tf\n",
    "from tensorflow.python.platform import gfile"
   ]
  },
  {
   "cell_type": "markdown",
   "metadata": {},
   "source": [
    "The CIFAR-10 dataset consists of 60000 32x32 colour images in 10 classes, with 6000 images per class. There are 50000 training images and 10000 test images. \n",
    "The dataset is divided into five training batches and one test batch, each with 10000 images. The test batch contains exactly 1000 randomly-selected images from each class. The training batches contain the remaining images in random order, but some training batches may contain more images from one class than another. Between them, the training batches contain exactly 5000 images from each class."
   ]
  },
  {
   "cell_type": "code",
   "execution_count": 2,
   "metadata": {
    "collapsed": true
   },
   "outputs": [],
   "source": [
    "# 原图像的尺度为32*32,但根据常识，信息部分通常位于图像的中央，这里定义了以中心裁剪后图像的尺寸\n",
    "IMAGE_SIZE = 24 #裁剪后的图像尺寸\n",
    "# Global constants describing the CIFAR-10 data set.\n",
    "NUM_CLASSES = 10\n",
    "NUM_EXAMPLES_PER_EPOCH_FOR_TRAIN = 50000\n",
    "NUM_EXAMPLES_PER_EPOCH_FOR_EVAL = 10000\n",
    "data_dir='/Dataset_for_dl/cifar-10-batches-py'#定义数据集所在文件夹路径\n",
    "batch_size=128 #定义每次参数更新时，所使用的batch的大小"
   ]
  },
  {
   "cell_type": "code",
   "execution_count": null,
   "metadata": {
    "collapsed": true
   },
   "outputs": [],
   "source": [
    "    '''\n",
    "    Reads and parses examples from CIFAR10 data files.\n",
    "    Recommendation: if you want N-way read parallelism, call this function\n",
    "    N times.  This will give you N independent Readers reading different\n",
    "    files & positions within those files, which will give better mixing of\n",
    "    examples.\n",
    "    Args:\n",
    "        filename_queue: A queue of strings with the filenames to read from.\n",
    "    Returns:\n",
    "        An object representing a single example, with the following fields:\n",
    "            height: number of rows in the result (32)\n",
    "            width: number of columns in the result (32)\n",
    "            depth: number of color channels in the result (3)\n",
    "            key: a scalar string Tensor describing the filename & record number\n",
    "            for this example.\n",
    "            label: an int32 Tensor with the label in the range 0..9.\n",
    "            uint8image: a [height, width, depth] uint8 Tensor with the image data\n",
    "    '''"
   ]
  },
  {
   "cell_type": "code",
   "execution_count": null,
   "metadata": {
    "collapsed": true
   },
   "outputs": [],
   "source": [
    "def read_cifar10(filename_queue):\n",
    "    class Image(object):\n",
    "        pass\n",
    "    image = Image()\n",
    "    #输入图片格式\n",
    "    image.height=32\n",
    "    image.width=32\n",
    "    image.depth=3\n",
    "    label_bytes = 1 # 2 for CIFAR-100\n",
    "    image_bytes = image.height*image.width*image.depth\n",
    "    Bytes_to_read = label_bytes+image_bytes\n",
    "    # 定义一个Reader，它每次能从文件中读取固定字节数\n",
    "    reader = tf.FixedLengthRecordReader(record_bytes=Bytes_to_read)\n",
    "    #返回从filename_queue中读取的(key, value)对，key和value都是字符串类型的tensor，并且当队\n",
    "    #列中的某一个文件读完成时，该文件名会dequeue\n",
    "    image.key, value_str = reader.read(filename_queue)\n",
    "    # 解码操作可以看作读二进制文件，把字符串中的字节转换为数值向量,每一个数值占用一个字节,在\n",
    "    #[0, 255]区间内，因此out_type要取uint8类型\n",
    "    value = tf.decode_raw(bytes=value_str, out_type=tf.uint8)\n"
   ]
  }
 ],
 "metadata": {
  "anaconda-cloud": {},
  "kernelspec": {
   "display_name": "Python 3",
   "language": "python",
   "name": "python3"
  },
  "language_info": {
   "codemirror_mode": {
    "name": "ipython",
    "version": 3
   },
   "file_extension": ".py",
   "mimetype": "text/x-python",
   "name": "python",
   "nbconvert_exporter": "python",
   "pygments_lexer": "ipython3",
   "version": "3.5.2"
  }
 },
 "nbformat": 4,
 "nbformat_minor": 1
}
