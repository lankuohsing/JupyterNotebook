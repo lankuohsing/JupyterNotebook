{
 "cells": [
  {
   "cell_type": "markdown",
   "metadata": {},
   "source": [
    "单层神经网络 MNIST"
   ]
  },
  {
   "cell_type": "code",
   "execution_count": 1,
   "metadata": {
    "collapsed": true
   },
   "outputs": [],
   "source": [
    "#packages\n",
    "import tensorflow as tf\n",
    "import pandas as pd\n",
    "from numpy import random as nr\n",
    "from sklearn.model_selection import train_test_split\n",
    "from sklearn.preprocessing import OneHotEncoder  \n",
    "import types"
   ]
  },
  {
   "cell_type": "code",
   "execution_count": 18,
   "metadata": {
    "collapsed": true
   },
   "outputs": [],
   "source": [
    "#一些常量的定义\n",
    "img_size=28*28\n",
    "\n",
    "train_size=0.8\n",
    "n_hidden_1 = 256 # 1st layer number of features\n",
    "n_hidden_2 = 256 # 2nd layer number of features\n",
    "training_epochs=15\n",
    "display_step=1\n",
    "learning_rate=1e-2\n",
    "batch_size=100"
   ]
  },
  {
   "cell_type": "code",
   "execution_count": 3,
   "metadata": {
    "collapsed": true
   },
   "outputs": [],
   "source": [
    "def read_data(filename):#用于读取数据的函数\n",
    "    labeled_images = pd.read_csv(filename)\n",
    "    [num_sample,num_feature]=labeled_images.shape\n",
    "    images = labeled_images.iloc[:,1:]\n",
    "    labels = labeled_images.iloc[:,:1]\n",
    "    return (images,labels,num_sample,num_feature)"
   ]
  },
  {
   "cell_type": "code",
   "execution_count": 4,
   "metadata": {
    "collapsed": true
   },
   "outputs": [],
   "source": [
    "filename='./input/train.csv'\n",
    "(images,labels,num_sample,num_feature)=read_data(filename)"
   ]
  },
  {
   "cell_type": "code",
   "execution_count": 5,
   "metadata": {
    "collapsed": false
   },
   "outputs": [],
   "source": [
    "#切割数据集\n",
    "(train_images, test_images,train_labels, test_labels) = \\\n",
    "train_test_split(images, labels, train_size=train_size, random_state=0)\n",
    "num_train=int(num_sample*train_size)"
   ]
  },
  {
   "cell_type": "code",
   "execution_count": 6,
   "metadata": {
    "collapsed": true
   },
   "outputs": [],
   "source": [
    "#将DataFrame转化为Matrix\n",
    "training_images=train_images.as_matrix()\n",
    "training_labels=train_labels.as_matrix()\n",
    "testing_images=test_images.as_matrix()\n",
    "testing_labels=test_labels.as_matrix()"
   ]
  },
  {
   "cell_type": "code",
   "execution_count": 7,
   "metadata": {
    "collapsed": false
   },
   "outputs": [],
   "source": [
    "training_images=training_images.astype('float32')#类型转换，以防matmul函数参数类型不匹配"
   ]
  },
  {
   "cell_type": "code",
   "execution_count": 8,
   "metadata": {
    "collapsed": false
   },
   "outputs": [
    {
     "name": "stdout",
     "output_type": "stream",
     "text": [
      "enc.n_values_ is: [10]\n"
     ]
    }
   ],
   "source": [
    "#OneHot encoding\n",
    "enc = OneHotEncoder()  \n",
    "enc.fit(training_labels)  \n",
    "print(\"enc.n_values_ is:\",enc.n_values_  )\n",
    "num_class=enc.n_values_[0]#类别数量\n",
    "training_labels_onehot=enc.transform(training_labels).toarray()\n",
    "testing_labels_onehot=enc.transform(testing_labels).toarray()"
   ]
  },
  {
   "cell_type": "code",
   "execution_count": 9,
   "metadata": {
    "collapsed": false
   },
   "outputs": [],
   "source": [
    "#create model\n",
    "def multiNN(x,W,b):\n",
    "    #Hidden layer1 with RELU activation\n",
    "    layer_1=tf.matmul(x,W['w1'])+b['b1']\n",
    "    layer_1=tf.nn.relu(layer_1)\n",
    "    #Hidden layer1 with RELU activation\n",
    "    layer_2=tf.matmul(layer_1,W['w2'])+b['b2']\n",
    "    layer_2=tf.nn.relu(layer_2)\n",
    "    #Output layer with linear activation\n",
    "    out_layer=tf.matmul(layer_2,W['out'])+b['out']\n",
    "    return out_layer"
   ]
  },
  {
   "cell_type": "code",
   "execution_count": 10,
   "metadata": {
    "collapsed": false
   },
   "outputs": [],
   "source": [
    "#Weights and bias\n",
    "W={\n",
    "    'w1':tf.Variable(tf.random_normal([img_size,n_hidden_1])),\n",
    "    'w2':tf.Variable(tf.random_normal([n_hidden_1,n_hidden_2])),\n",
    "    'out':tf.Variable(tf.random_normal([n_hidden_2,num_class]))\n",
    "}\n",
    "b={\n",
    "    'b1':tf.Variable(tf.random_normal([n_hidden_1])),\n",
    "    'b2':tf.Variable(tf.random_normal([n_hidden_2])),\n",
    "    'out':tf.Variable(tf.random_normal([num_class]))\n",
    "}\n",
    "#Construct model \n",
    "#[none,img_size]表示在tf运行时能输入任意形数量的images,每张image尺寸为img_size\n",
    "x=tf.placeholder(\"float\",[None,img_size])\n",
    "y_ = tf.placeholder(\"float\", [None,num_class])#正确的标签\n",
    "y=multiNN(x,W,b)"
   ]
  },
  {
   "cell_type": "code",
   "execution_count": 19,
   "metadata": {
    "collapsed": false
   },
   "outputs": [],
   "source": [
    "#Define loss and optimizer\n",
    "cost = tf.reduce_mean(tf.nn.softmax_cross_entropy_with_logits(logits=y, labels=y_))\n",
    "optimizer = tf.train.AdamOptimizer(learning_rate=learning_rate).minimize(cost)\n",
    "#Initializing the variables\n",
    "init=tf.global_variables_initializer()"
   ]
  },
  {
   "cell_type": "code",
   "execution_count": 20,
   "metadata": {
    "collapsed": false
   },
   "outputs": [
    {
     "name": "stdout",
     "output_type": "stream",
     "text": [
      "Epoch: 0001 cost= 17208.922944205\n",
      "Epoch: 0002 cost= 2976.359524977\n",
      "Epoch: 0003 cost= 1703.998707419\n",
      "Epoch: 0004 cost= 1010.151434243\n",
      "Epoch: 0005 cost= 834.166687110\n",
      "Epoch: 0006 cost= 680.451472038\n",
      "Epoch: 0007 cost= 567.022684887\n",
      "Epoch: 0008 cost= 667.106116865\n",
      "Epoch: 0009 cost= 527.730698452\n",
      "Epoch: 0010 cost= 537.871046027\n",
      "Epoch: 0011 cost= 407.384948018\n",
      "Epoch: 0012 cost= 476.508325008\n",
      "Epoch: 0013 cost= 466.404713097\n",
      "Epoch: 0014 cost= 379.277313279\n",
      "Epoch: 0015 cost= 370.174721512\n",
      "Optimization Finished\n",
      "0.952262\n"
     ]
    }
   ],
   "source": [
    "#Launch the graph\n",
    "with tf.Session() as sess:\n",
    "    sess.run(init)\n",
    "    \n",
    "    #training cycle\n",
    "    for epoch in range(training_epochs):\n",
    "        avg_cost=0\n",
    "        num_batch=int(num_train/batch_size)\n",
    "        #loop over all batches\n",
    "        for i in range(num_batch):\n",
    "            batch_indices=nr.choice(range(num_train),batch_size)\n",
    "            batch_xs=training_images[batch_indices,:]\n",
    "            batch_ys=training_labels_onehot[batch_indices,:]\n",
    "            _,c,W1,b1,y1,y2=sess.run([optimizer,cost,W,b,y,y_], feed_dict={x: batch_xs, y_: batch_ys})\n",
    "            #compute average cost\n",
    "            avg_cost+=c/num_batch\n",
    "        #display logs\n",
    "        if epoch % display_step == 0:\n",
    "            print(\"Epoch:\",'%04d' % (epoch+1),\"cost=\", \\\n",
    "                 \"{:.9f}\".format(avg_cost))\n",
    "    print(\"Optimization Finished\")\n",
    "    #Test model\n",
    "    correct_prediction = tf.equal(tf.argmax(y,1), tf.argmax(y_,1))\n",
    "    accuracy = tf.reduce_mean(tf.cast(correct_prediction, \"float\"))\n",
    "    print(accuracy.eval({x: testing_images, y_: testing_labels_onehot}))\n",
    "            \n",
    "    "
   ]
  },
  {
   "cell_type": "code",
   "execution_count": null,
   "metadata": {
    "collapsed": true
   },
   "outputs": [],
   "source": []
  }
 ],
 "metadata": {
  "anaconda-cloud": {},
  "kernelspec": {
   "display_name": "Python 3",
   "language": "python",
   "name": "python3"
  },
  "language_info": {
   "codemirror_mode": {
    "name": "ipython",
    "version": 3
   },
   "file_extension": ".py",
   "mimetype": "text/x-python",
   "name": "python",
   "nbconvert_exporter": "python",
   "pygments_lexer": "ipython3",
   "version": "3.5.2"
  }
 },
 "nbformat": 4,
 "nbformat_minor": 1
}
