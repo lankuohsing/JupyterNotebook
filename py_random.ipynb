{
 "cells": [
  {
   "cell_type": "code",
   "execution_count": 35,
   "metadata": {
    "collapsed": true
   },
   "outputs": [],
   "source": [
    "from numpy import random as nr\n",
    "import numpy as np "
   ]
  },
  {
   "cell_type": "code",
   "execution_count": 36,
   "metadata": {
    "collapsed": false
   },
   "outputs": [
    {
     "data": {
      "text/plain": [
       "array([[6, 4, 7, 2, 4, 0, 7, 7, 2, 7],\n",
       "       [8, 6, 6, 4, 0, 3, 7, 2, 4, 5],\n",
       "       [0, 7, 8, 8, 5, 4, 1, 0, 0, 3],\n",
       "       [7, 5, 9, 8, 7, 4, 0, 0, 5, 7],\n",
       "       [9, 2, 7, 0, 9, 2, 7, 8, 4, 4],\n",
       "       [3, 8, 8, 1, 0, 5, 2, 5, 4, 7],\n",
       "       [0, 7, 0, 0, 7, 7, 5, 6, 7, 0],\n",
       "       [1, 5, 4, 2, 6, 3, 5, 7, 5, 2],\n",
       "       [2, 1, 5, 8, 5, 4, 9, 7, 9, 9],\n",
       "       [6, 4, 9, 8, 7, 8, 7, 7, 0, 1]])"
      ]
     },
     "execution_count": 36,
     "metadata": {},
     "output_type": "execute_result"
    }
   ],
   "source": [
    "a=nr.randint(0,10,(10,10))\n",
    "a"
   ]
  },
  {
   "cell_type": "code",
   "execution_count": 41,
   "metadata": {
    "collapsed": false
   },
   "outputs": [
    {
     "data": {
      "text/plain": [
       "array([6, 7, 1, 3, 5])"
      ]
     },
     "execution_count": 41,
     "metadata": {},
     "output_type": "execute_result"
    }
   ],
   "source": [
    "indices=nr.choice(range(10),5)\n",
    "indices"
   ]
  },
  {
   "cell_type": "code",
   "execution_count": 34,
   "metadata": {
    "collapsed": false
   },
   "outputs": [
    {
     "data": {
      "text/plain": [
       "array([[0, 2, 9, 8, 0, 9, 0, 2, 0, 1],\n",
       "       [4, 1, 5, 6, 0, 8, 0, 9, 3, 1],\n",
       "       [3, 1, 5, 5, 6, 1, 8, 2, 9, 4],\n",
       "       [8, 6, 1, 9, 2, 0, 4, 8, 5, 6],\n",
       "       [3, 1, 5, 5, 6, 1, 8, 2, 9, 4]])"
      ]
     },
     "execution_count": 34,
     "metadata": {},
     "output_type": "execute_result"
    }
   ],
   "source": [
    "batch_indices=a[indices,:]\n",
    "batch_indices"
   ]
  }
 ],
 "metadata": {
  "anaconda-cloud": {},
  "kernelspec": {
   "display_name": "Python 3",
   "language": "python",
   "name": "python3"
  },
  "language_info": {
   "codemirror_mode": {
    "name": "ipython",
    "version": 3
   },
   "file_extension": ".py",
   "mimetype": "text/x-python",
   "name": "python",
   "nbconvert_exporter": "python",
   "pygments_lexer": "ipython3",
   "version": "3.5.2"
  }
 },
 "nbformat": 4,
 "nbformat_minor": 1
}
