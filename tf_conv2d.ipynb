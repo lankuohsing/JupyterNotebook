{
 "cells": [
  {
   "cell_type": "markdown",
   "metadata": {},
   "source": [
    "tf.nn.conv2d(input, filter, strides, padding, use_cudnn_on_gpu=None, data_format=None, name=None)\n",
    "**input**:指需要做卷积的输入图像,是一个Tensor，每个元素的格式必须为float32或float64。[batch,in_height,in_width,in_channels]，具体含义是[训练时一个batch的图片数量, 图片高度, 图片宽度, 图像通道数]\n",
    "**filter**:相当于CNN中的卷积核，是一个Tensor，每个元素的类型和input类型一致。\n",
    "[filter_height,filter_width,in_channels,out_channels]，含义是[卷积核的高度，卷积核的宽度，图像通道数，卷积核个数]\n",
    "**stride**:长度为4的list，元素类型为int。表示每一维度滑动的步长。需要注意的是，strides[0]=strides[3]=1.\n",
    "**pading**:string类型的量，只能是\"SAME\",\"VALID\"其中之一，这个值决定了不同的卷积方式。\n"
   ]
  },
  {
   "cell_type": "code",
   "execution_count": 25,
   "metadata": {
    "collapsed": true
   },
   "outputs": [],
   "source": [
    "import tensorflow as tf  "
   ]
  },
  {
   "cell_type": "markdown",
   "metadata": {
    "collapsed": false
   },
   "source": [
    "\n",
    "\n",
    "#case 1  \n",
    "'''\n",
    "1.考虑一种最简单的情况，现在有一张3×3单通道的图像（对应的shape：[1，3，3，1]），\n",
    "用一个1×1的卷积核（对应的shape：[1，1，1，1]）去做卷积，\n",
    "最后会得到一张3×3的feature map\n",
    "'''\n",
    "input1 = tf.Variable(tf.random_normal([1,3,3,1]))  \n",
    "filter1 = tf.Variable(tf.random_normal([1,1,1,1]))  \n",
    "op1 = tf.nn.conv2d(input1, filter1, strides=[1, 1, 1, 1], padding='VALID') \n",
    "'''\n",
    "2.增加图片的通道数，使用一张3×3五通道的图像（对应的shape：[1，3，3，5]），用一个1×1的\n",
    "卷积核（对应的shape：[1，1，5，1]）去做卷积，仍然是一张3×3的feature map，这就相当于每\n",
    "一个像素点，卷积核都与该像素点的每一个通道做点积\n",
    "'''\n",
    "#case 2  \n",
    "input2 = tf.Variable(tf.random_normal([1,3,3,5]))  \n",
    "filter2 = tf.Variable(tf.random_normal([1,1,5,1]))  \n",
    "  \n",
    "op2 = tf.nn.conv2d(input2, filter2, strides=[1, 1, 1, 1], padding='VALID')  \n",
    "#case 3  \n",
    "input = tf.Variable(tf.random_normal([1,3,3,5]))  \n",
    "filter = tf.Variable(tf.random_normal([3,3,5,1]))  \n",
    "  \n",
    "op3 = tf.nn.conv2d(input, filter, strides=[1, 1, 1, 1], padding='VALID')  \n",
    "#case 4  \n",
    "input = tf.Variable(tf.random_normal([1,5,5,1]))  \n",
    "filter = tf.Variable(tf.random_normal([4,4,1,1]))  \n",
    "  \n",
    "op4 = tf.nn.conv2d(input, filter, strides=[1, 1, 1, 1], padding='SAME')  \n",
    "#case 5  \n",
    "input = tf.Variable(tf.random_normal([1,5,5,5]))  \n",
    "filter = tf.Variable(tf.random_normal([3,3,5,1]))  \n",
    "  \n",
    "op5 = tf.nn.conv2d(input, filter, strides=[1, 1, 1, 1], padding='SAME')  \n",
    "#case 6  \n",
    "input = tf.Variable(tf.random_normal([1,5,5,5]))  \n",
    "filter = tf.Variable(tf.random_normal([3,3,5,7]))  \n",
    "  \n",
    "op6 = tf.nn.conv2d(input, filter, strides=[1, 1, 1, 1], padding='SAME')  \n",
    "#case 7  \n",
    "input = tf.Variable(tf.random_normal([1,5,5,5]))  \n",
    "filter = tf.Variable(tf.random_normal([3,3,5,7]))  \n",
    "  \n",
    "op7 = tf.nn.conv2d(input, filter, strides=[1, 2, 2, 1], padding='SAME')  \n",
    "#case 8  \n",
    "input = tf.Variable(tf.random_normal([10,5,5,5]))  \n",
    "filter = tf.Variable(tf.random_normal([3,3,5,7]))  \n",
    "  \n",
    "op8 = tf.nn.conv2d(input, filter, strides=[1, 2, 2, 1], padding='SAME')  \n",
    "\n",
    "init = tf.global_variables_initializer()  \n",
    "with tf.Session() as sess:  \n",
    "    sess.run(init) \n",
    "    \n",
    "    print(\"case 1\")  \n",
    "    print(\"input1:\\n\",input1.eval()) \n",
    "    print(\"filter1:\",filter1.eval())\n",
    "    print(\"op1:\\n\",op1.eval())\n",
    "    \n",
    "    print(\"case 2\")  \n",
    "    print(\"input2:\\n\",input2.eval())  \n",
    "    print(\"filter2:\",filter2.eval())\n",
    "    print(\"op2:\\n\",op2.eval()) \n",
    "    \n",
    "    print(\"case 3\")  \n",
    "    print(sess.run(op3))  \n",
    "    print(\"case 4\")  \n",
    "    print(sess.run(op4))  \n",
    "    print(\"case 5\")  \n",
    "    print(sess.run(op5))  \n",
    "    print(\"case 6\")  \n",
    "    print(sess.run(op6))  \n",
    "    print(\"case 7\")  \n",
    "    print(sess.run(op7))  \n",
    "    print(\"case 8\")  \n",
    "    print(sess.run(op8)) \n",
    "    \n"
   ]
  },
  {
   "cell_type": "code",
   "execution_count": 26,
   "metadata": {
    "collapsed": true
   },
   "outputs": [],
   "source": [
    "# Create some wrappers for simplicity\n",
    "def conv2d(x, W, b, strides=1):\n",
    "    # Conv2D wrapper, with bias and relu activation\n",
    "    x = tf.nn.conv2d(x, W, strides=[1, strides, strides, 1], padding='SAME')\n",
    "    x = tf.nn.bias_add(x, b)\n",
    "    return tf.nn.relu(x)\n",
    "\n",
    "\n",
    "def maxpool2d(x, k=2):\n",
    "    # MaxPool2D wrapper\n",
    "    return tf.nn.max_pool(x, ksize=[1, k, k, 1], strides=[1, k, k, 1],\n",
    "                          padding='SAME')"
   ]
  },
  {
   "cell_type": "code",
   "execution_count": 32,
   "metadata": {
    "collapsed": false
   },
   "outputs": [
    {
     "name": "stdout",
     "output_type": "stream",
     "text": [
      "Tensor(\"MaxPool_6:0\", shape=(1, 14, 14, 32), dtype=float32)\n",
      "Tensor(\"MaxPool_7:0\", shape=(1, 7, 7, 64), dtype=float32)\n"
     ]
    }
   ],
   "source": [
    "input1=tf.Variable(tf.random_normal([1,28,28,1]))\n",
    "w1=tf.Variable(tf.random_normal([5, 5, 1, 32]))\n",
    "b1=tf.Variable(tf.random_normal([32]))\n",
    "w2=tf.Variable(tf.random_normal([5, 5, 32, 64]))\n",
    "b2=tf.Variable(tf.random_normal([64]))\n",
    "conv1 = conv2d(input1, w1, b1)\n",
    "conv1 = maxpool2d(conv1, k=2)\n",
    "conv2 = conv2d(conv1, w2, b2)\n",
    "conv2 = maxpool2d(conv2, k=2)\n",
    "init = tf.global_variables_initializer()\n",
    "with tf.Session() as sess:\n",
    "    sess.run(init)\n",
    "    sess.run(conv1)\n",
    "    print(conv1)\n",
    "    sess.run(conv2)\n",
    "    print(conv2)"
   ]
  }
 ],
 "metadata": {
  "anaconda-cloud": {},
  "kernelspec": {
   "display_name": "Python 3",
   "language": "python",
   "name": "python3"
  },
  "language_info": {
   "codemirror_mode": {
    "name": "ipython",
    "version": 3
   },
   "file_extension": ".py",
   "mimetype": "text/x-python",
   "name": "python",
   "nbconvert_exporter": "python",
   "pygments_lexer": "ipython3",
   "version": "3.5.2"
  }
 },
 "nbformat": 4,
 "nbformat_minor": 1
}
