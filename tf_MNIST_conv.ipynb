{
 "cells": [
  {
   "cell_type": "code",
   "execution_count": 1,
   "metadata": {
    "collapsed": true
   },
   "outputs": [],
   "source": [
    "#packages\n",
    "import tensorflow as tf\n",
    "import pandas as pd\n",
    "from numpy import random as nr\n",
    "from sklearn.model_selection import train_test_split\n",
    "from sklearn.preprocessing import OneHotEncoder  \n",
    "import types"
   ]
  },
  {
   "cell_type": "code",
   "execution_count": 2,
   "metadata": {
    "collapsed": true
   },
   "outputs": [],
   "source": [
    "#一些常量的定义\n",
    "img_size=28*28\n",
    "training_iters=200000\n",
    "train_size=0.8\n",
    "n_hidden_1 = 256 # 1st layer number of features\n",
    "n_hidden_2 = 256 # 2nd layer number of features\n",
    "training_epochs=15\n",
    "display_step=10\n",
    "learning_rate=1e-3\n",
    "batch_size=128\n",
    "dropout1=0.75"
   ]
  },
  {
   "cell_type": "code",
   "execution_count": 3,
   "metadata": {
    "collapsed": true
   },
   "outputs": [],
   "source": [
    "def read_data(filename):#用于读取数据的函数\n",
    "    labeled_images = pd.read_csv(filename)\n",
    "    [num_sample,num_feature]=labeled_images.shape\n",
    "    images = labeled_images.iloc[:,1:]\n",
    "    labels = labeled_images.iloc[:,:1]\n",
    "    return (images,labels,num_sample,num_feature)"
   ]
  },
  {
   "cell_type": "code",
   "execution_count": 4,
   "metadata": {
    "collapsed": true
   },
   "outputs": [],
   "source": [
    "filename='./input/train.csv'\n",
    "(images,labels,num_sample,num_feature)=read_data(filename)"
   ]
  },
  {
   "cell_type": "code",
   "execution_count": 5,
   "metadata": {
    "collapsed": true
   },
   "outputs": [],
   "source": [
    "#切割数据集\n",
    "(train_images, test_images,train_labels, test_labels) = \\\n",
    "train_test_split(images, labels, train_size=train_size, random_state=0)\n",
    "num_train=int(num_sample*train_size)"
   ]
  },
  {
   "cell_type": "code",
   "execution_count": 6,
   "metadata": {
    "collapsed": true
   },
   "outputs": [],
   "source": [
    "#将DataFrame转化为Matrix\n",
    "training_images=train_images.as_matrix()\n",
    "training_labels=train_labels.as_matrix()\n",
    "testing_images=test_images.as_matrix()\n",
    "testing_labels=test_labels.as_matrix()"
   ]
  },
  {
   "cell_type": "code",
   "execution_count": 7,
   "metadata": {
    "collapsed": true
   },
   "outputs": [],
   "source": [
    "training_images=training_images.astype('float32')#类型转换，以防matmul函数参数类型不匹配"
   ]
  },
  {
   "cell_type": "code",
   "execution_count": 8,
   "metadata": {
    "collapsed": false
   },
   "outputs": [
    {
     "name": "stdout",
     "output_type": "stream",
     "text": [
      "enc.n_values_ is: [10]\n"
     ]
    }
   ],
   "source": [
    "#OneHot encoding\n",
    "enc = OneHotEncoder()  \n",
    "enc.fit(training_labels)  \n",
    "print(\"enc.n_values_ is:\",enc.n_values_  )\n",
    "num_class=enc.n_values_[0]#类别数量\n",
    "training_labels_onehot=enc.transform(training_labels).toarray()\n",
    "testing_labels_onehot=enc.transform(testing_labels).toarray()"
   ]
  },
  {
   "cell_type": "code",
   "execution_count": 9,
   "metadata": {
    "collapsed": true
   },
   "outputs": [],
   "source": [
    "#Create some wrappers for simplicity\n",
    "def conv2d(x,W,b,strides=1):\n",
    "    x=tf.nn.conv2d(x,W,strides=[1,strides,strides,1],padding='SAME')#SAME表示卷积核可以停留在图像边缘\n",
    "    return tf.nn.relu(x)\n",
    "\n",
    "def maxpool2d(x,k=2):\n",
    "    return tf.nn.max_pool(x,ksize=[1,k,k,1],strides=[1,k,k,1],padding='SAME')\n",
    "\n",
    "#Create model\n",
    "def conv_net(x,W,b,keep_prob=1.):\n",
    "    #Reshape input image\n",
    "    x=tf.reshape(x,shape=[-1,28,28,1])\n",
    "    \n",
    "    #Convolution Layer \n",
    "    conv1=conv2d(x,W['wc1'],b['bc1'])\n",
    "    # Max Pooling (down-sampling)\n",
    "    conv1 = maxpool2d(conv1, k=2)\n",
    "    # Convolution Layer\n",
    "    conv2 = conv2d(conv1, W['wc2'],b['bc2'])\n",
    "    # Max Pooling (down-sampling)\n",
    "    conv2 = maxpool2d(conv2, k=2)\n",
    "    \n",
    "    # Fully connected layer\n",
    "    # Reshape conv2 output to fit fully connected layer input\n",
    "    fc1 = tf.reshape(conv2, [-1, W['wd1'].get_shape().as_list()[0]])\n",
    "    fc1 = tf.add(tf.matmul(fc1, W['wd1']), b['bd1'])\n",
    "    fc1 = tf.nn.relu(fc1)\n",
    "    # Apply Dropout\n",
    "    fc1 = tf.nn.dropout(fc1, keep_prob)\n",
    "    # Output, class prediction\n",
    "    out = tf.add(tf.matmul(fc1, W['out']), b['out'])\n",
    "    return out"
   ]
  },
  {
   "cell_type": "code",
   "execution_count": 10,
   "metadata": {
    "collapsed": false
   },
   "outputs": [],
   "source": [
    "#Weights and bias\n",
    "W={\n",
    "    #5x5 conv,1 input, 32outputs\n",
    "    'wc1': tf.Variable(tf.random_normal([5,5,1,32])),\n",
    "    #5x5 conv, 32 inputs, 64 outputs\n",
    "    'wc2': tf.Variable(tf.random_normal([5,5,32,64])),\n",
    "    #Fully connected, 7x7x64 inputs, 2014 outputs\n",
    "    'wd1': tf.Variable(tf.random_normal([7*7*64,1024])),\n",
    "    'out': tf.Variable(tf.random_normal([1024,num_class]))\n",
    "}\n",
    "b = {\n",
    "    'bc1': tf.Variable(tf.random_normal([32])),\n",
    "    'bc2': tf.Variable(tf.random_normal([64])),\n",
    "    'bd1': tf.Variable(tf.random_normal([1024])),\n",
    "    'out': tf.Variable(tf.random_normal([num_class]))\n",
    "}\n",
    "x=tf.placeholder(tf.float32,[None,img_size])\n",
    "y_ = tf.placeholder(tf.float32, [None,num_class])#正确的标签\n",
    "keep_prob = tf.placeholder(tf.float32)"
   ]
  },
  {
   "cell_type": "code",
   "execution_count": 11,
   "metadata": {
    "collapsed": false
   },
   "outputs": [],
   "source": [
    "# Construct model\n",
    "y = conv_net(x, W, b, keep_prob)\n",
    "\n",
    "# Define loss and optimizer\n",
    "cost = tf.reduce_mean(tf.nn.softmax_cross_entropy_with_logits(logits=y, labels=y_))\n",
    "optimizer = tf.train.AdamOptimizer(learning_rate=learning_rate).minimize(cost)\n",
    "\n",
    "# Evaluate model\n",
    "correct_pred = tf.equal(tf.argmax(y, 1), tf.argmax(y_, 1))\n",
    "accuracy = tf.reduce_mean(tf.cast(correct_pred, tf.float32))\n",
    "\n",
    "# Initializing the variables\n",
    "init = tf.global_variables_initializer()"
   ]
  },
  {
   "cell_type": "code",
   "execution_count": 12,
   "metadata": {
    "collapsed": false
   },
   "outputs": [
    {
     "name": "stdout",
     "output_type": "stream",
     "text": [
      "Iter 1280, Minibatch Loss= 4978937.000000, Training Accuracy= 0.39844\n",
      "Iter 2560, Minibatch Loss= 3947777.500000, Training Accuracy= 0.51562\n",
      "Iter 3840, Minibatch Loss= 1861873.500000, Training Accuracy= 0.67969\n",
      "Iter 5120, Minibatch Loss= 887387.500000, Training Accuracy= 0.79688\n",
      "Iter 6400, Minibatch Loss= 1377378.125000, Training Accuracy= 0.77344\n",
      "Iter 7680, Minibatch Loss= 675084.875000, Training Accuracy= 0.88281\n",
      "Iter 8960, Minibatch Loss= 595209.625000, Training Accuracy= 0.86719\n",
      "Iter 10240, Minibatch Loss= 399559.875000, Training Accuracy= 0.89844\n",
      "Iter 11520, Minibatch Loss= 613969.187500, Training Accuracy= 0.89844\n",
      "Iter 12800, Minibatch Loss= 590752.187500, Training Accuracy= 0.88281\n",
      "Iter 14080, Minibatch Loss= 635572.250000, Training Accuracy= 0.85938\n",
      "Iter 15360, Minibatch Loss= 343900.125000, Training Accuracy= 0.91406\n",
      "Iter 16640, Minibatch Loss= 382620.937500, Training Accuracy= 0.89844\n",
      "Iter 17920, Minibatch Loss= 625314.500000, Training Accuracy= 0.86719\n",
      "Iter 19200, Minibatch Loss= 200788.625000, Training Accuracy= 0.92188\n",
      "Iter 20480, Minibatch Loss= 469386.718750, Training Accuracy= 0.89844\n",
      "Iter 21760, Minibatch Loss= 884745.250000, Training Accuracy= 0.88281\n",
      "Iter 23040, Minibatch Loss= 545069.375000, Training Accuracy= 0.89062\n",
      "Iter 24320, Minibatch Loss= 297758.906250, Training Accuracy= 0.91406\n",
      "Iter 25600, Minibatch Loss= 465810.937500, Training Accuracy= 0.90625\n",
      "Iter 26880, Minibatch Loss= 392250.375000, Training Accuracy= 0.92188\n",
      "Iter 28160, Minibatch Loss= 198454.109375, Training Accuracy= 0.92969\n",
      "Iter 29440, Minibatch Loss= 127860.750000, Training Accuracy= 0.97656\n",
      "Iter 30720, Minibatch Loss= 253300.125000, Training Accuracy= 0.92188\n",
      "Iter 32000, Minibatch Loss= 254723.875000, Training Accuracy= 0.96094\n",
      "Iter 33280, Minibatch Loss= 370600.687500, Training Accuracy= 0.91406\n",
      "Iter 34560, Minibatch Loss= 387426.562500, Training Accuracy= 0.91406\n",
      "Iter 35840, Minibatch Loss= 181945.500000, Training Accuracy= 0.94531\n",
      "Iter 37120, Minibatch Loss= 37962.687500, Training Accuracy= 0.98438\n",
      "Iter 38400, Minibatch Loss= 148433.156250, Training Accuracy= 0.94531\n",
      "Iter 39680, Minibatch Loss= 433178.312500, Training Accuracy= 0.92969\n",
      "Iter 40960, Minibatch Loss= 79426.585938, Training Accuracy= 0.96875\n",
      "Iter 42240, Minibatch Loss= 111084.578125, Training Accuracy= 0.96875\n",
      "Iter 43520, Minibatch Loss= 224461.875000, Training Accuracy= 0.92188\n",
      "Iter 44800, Minibatch Loss= 485046.625000, Training Accuracy= 0.91406\n",
      "Iter 46080, Minibatch Loss= 187473.812500, Training Accuracy= 0.94531\n",
      "Iter 47360, Minibatch Loss= 61903.250000, Training Accuracy= 0.97656\n",
      "Iter 48640, Minibatch Loss= 13945.812500, Training Accuracy= 0.99219\n",
      "Iter 49920, Minibatch Loss= 182590.562500, Training Accuracy= 0.95312\n",
      "Iter 51200, Minibatch Loss= 138978.843750, Training Accuracy= 0.94531\n",
      "Iter 52480, Minibatch Loss= 137716.796875, Training Accuracy= 0.96875\n",
      "Iter 53760, Minibatch Loss= 153555.328125, Training Accuracy= 0.96094\n",
      "Iter 55040, Minibatch Loss= 119152.882812, Training Accuracy= 0.95312\n",
      "Iter 56320, Minibatch Loss= 193884.968750, Training Accuracy= 0.95312\n",
      "Iter 57600, Minibatch Loss= 66292.890625, Training Accuracy= 0.96094\n",
      "Iter 58880, Minibatch Loss= 111464.937500, Training Accuracy= 0.97656\n",
      "Iter 60160, Minibatch Loss= 84856.625000, Training Accuracy= 0.96875\n",
      "Iter 61440, Minibatch Loss= 34570.343750, Training Accuracy= 0.97656\n",
      "Iter 62720, Minibatch Loss= 35848.437500, Training Accuracy= 0.97656\n",
      "Iter 64000, Minibatch Loss= 17367.921875, Training Accuracy= 0.96875\n",
      "Iter 65280, Minibatch Loss= 143058.859375, Training Accuracy= 0.94531\n",
      "Iter 66560, Minibatch Loss= 76277.000000, Training Accuracy= 0.96875\n",
      "Iter 67840, Minibatch Loss= 154081.921875, Training Accuracy= 0.95312\n",
      "Iter 69120, Minibatch Loss= 196085.875000, Training Accuracy= 0.96094\n",
      "Iter 70400, Minibatch Loss= 242116.062500, Training Accuracy= 0.94531\n",
      "Iter 71680, Minibatch Loss= 38530.894531, Training Accuracy= 0.98438\n",
      "Iter 72960, Minibatch Loss= 46846.671875, Training Accuracy= 0.97656\n",
      "Iter 74240, Minibatch Loss= 173455.187500, Training Accuracy= 0.93750\n",
      "Iter 75520, Minibatch Loss= 279595.125000, Training Accuracy= 0.94531\n",
      "Iter 76800, Minibatch Loss= 85314.593750, Training Accuracy= 0.96094\n",
      "Iter 78080, Minibatch Loss= 44578.878906, Training Accuracy= 0.96875\n",
      "Iter 79360, Minibatch Loss= 105649.671875, Training Accuracy= 0.96094\n",
      "Iter 80640, Minibatch Loss= 87663.578125, Training Accuracy= 0.97656\n",
      "Iter 81920, Minibatch Loss= 4831.078125, Training Accuracy= 0.99219\n",
      "Iter 83200, Minibatch Loss= 68451.992188, Training Accuracy= 0.94531\n",
      "Iter 84480, Minibatch Loss= 36869.343750, Training Accuracy= 0.98438\n",
      "Iter 85760, Minibatch Loss= 97524.750000, Training Accuracy= 0.94531\n",
      "Iter 87040, Minibatch Loss= 54494.507812, Training Accuracy= 0.98438\n",
      "Iter 88320, Minibatch Loss= 29293.546875, Training Accuracy= 0.97656\n",
      "Iter 89600, Minibatch Loss= 170968.031250, Training Accuracy= 0.95312\n",
      "Iter 90880, Minibatch Loss= 70041.523438, Training Accuracy= 0.97656\n",
      "Iter 92160, Minibatch Loss= 51086.558594, Training Accuracy= 0.97656\n",
      "Iter 93440, Minibatch Loss= 44414.035156, Training Accuracy= 0.96094\n",
      "Iter 94720, Minibatch Loss= 12052.664062, Training Accuracy= 0.98438\n",
      "Iter 96000, Minibatch Loss= 53311.644531, Training Accuracy= 0.96875\n",
      "Iter 97280, Minibatch Loss= 76365.320312, Training Accuracy= 0.95312\n",
      "Iter 98560, Minibatch Loss= 0.000000, Training Accuracy= 1.00000\n",
      "Iter 99840, Minibatch Loss= 40936.406250, Training Accuracy= 0.98438\n",
      "Iter 101120, Minibatch Loss= 417371.218750, Training Accuracy= 0.93750\n",
      "Iter 102400, Minibatch Loss= 102293.625000, Training Accuracy= 0.96875\n",
      "Iter 103680, Minibatch Loss= 19336.238281, Training Accuracy= 0.97656\n",
      "Iter 104960, Minibatch Loss= 165973.593750, Training Accuracy= 0.95312\n",
      "Iter 106240, Minibatch Loss= 12446.312500, Training Accuracy= 0.99219\n",
      "Iter 107520, Minibatch Loss= 76433.921875, Training Accuracy= 0.94531\n",
      "Iter 108800, Minibatch Loss= 21434.484375, Training Accuracy= 0.98438\n",
      "Iter 110080, Minibatch Loss= 97655.562500, Training Accuracy= 0.96094\n",
      "Iter 111360, Minibatch Loss= 47266.105469, Training Accuracy= 0.96875\n",
      "Iter 112640, Minibatch Loss= 80735.406250, Training Accuracy= 0.96094\n",
      "Iter 113920, Minibatch Loss= 108386.796875, Training Accuracy= 0.97656\n",
      "Iter 115200, Minibatch Loss= 14505.367188, Training Accuracy= 0.99219\n",
      "Iter 116480, Minibatch Loss= 13512.742188, Training Accuracy= 0.99219\n",
      "Iter 117760, Minibatch Loss= 70963.914062, Training Accuracy= 0.97656\n",
      "Iter 119040, Minibatch Loss= 3381.445312, Training Accuracy= 0.99219\n",
      "Iter 120320, Minibatch Loss= 70742.296875, Training Accuracy= 0.97656\n",
      "Iter 121600, Minibatch Loss= 60329.652344, Training Accuracy= 0.96875\n",
      "Iter 122880, Minibatch Loss= 266073.031250, Training Accuracy= 0.96875\n",
      "Iter 124160, Minibatch Loss= 0.000000, Training Accuracy= 1.00000\n",
      "Iter 125440, Minibatch Loss= 34938.851562, Training Accuracy= 0.99219\n",
      "Iter 126720, Minibatch Loss= 32295.894531, Training Accuracy= 0.98438\n",
      "Iter 128000, Minibatch Loss= 47141.531250, Training Accuracy= 0.96875\n",
      "Iter 129280, Minibatch Loss= 29676.808594, Training Accuracy= 0.98438\n",
      "Iter 130560, Minibatch Loss= 0.000000, Training Accuracy= 1.00000\n",
      "Iter 131840, Minibatch Loss= 74930.843750, Training Accuracy= 0.96875\n",
      "Iter 133120, Minibatch Loss= 84645.093750, Training Accuracy= 0.97656\n",
      "Iter 134400, Minibatch Loss= 17516.781250, Training Accuracy= 0.99219\n",
      "Iter 135680, Minibatch Loss= 51446.679688, Training Accuracy= 0.97656\n",
      "Iter 136960, Minibatch Loss= 105229.492188, Training Accuracy= 0.96875\n",
      "Iter 138240, Minibatch Loss= 75974.132812, Training Accuracy= 0.96875\n",
      "Iter 139520, Minibatch Loss= 87971.976562, Training Accuracy= 0.96875\n",
      "Iter 140800, Minibatch Loss= 56333.640625, Training Accuracy= 0.96875\n",
      "Iter 142080, Minibatch Loss= 41974.042969, Training Accuracy= 0.96094\n",
      "Iter 143360, Minibatch Loss= 49389.441406, Training Accuracy= 0.98438\n",
      "Iter 144640, Minibatch Loss= 70771.734375, Training Accuracy= 0.96875\n",
      "Iter 145920, Minibatch Loss= 29790.039062, Training Accuracy= 0.98438\n",
      "Iter 147200, Minibatch Loss= 3714.941406, Training Accuracy= 0.99219\n",
      "Iter 148480, Minibatch Loss= 0.000000, Training Accuracy= 1.00000\n",
      "Iter 149760, Minibatch Loss= 0.000000, Training Accuracy= 1.00000\n",
      "Iter 151040, Minibatch Loss= 63165.007812, Training Accuracy= 0.97656\n",
      "Iter 152320, Minibatch Loss= 52651.968750, Training Accuracy= 0.96094\n",
      "Iter 153600, Minibatch Loss= 7080.671875, Training Accuracy= 0.99219\n",
      "Iter 154880, Minibatch Loss= 9977.441406, Training Accuracy= 0.99219\n",
      "Iter 156160, Minibatch Loss= 5090.132812, Training Accuracy= 0.99219\n",
      "Iter 157440, Minibatch Loss= 3379.972656, Training Accuracy= 0.99219\n",
      "Iter 158720, Minibatch Loss= 0.000000, Training Accuracy= 1.00000\n",
      "Iter 160000, Minibatch Loss= 6552.671875, Training Accuracy= 0.97656\n",
      "Iter 161280, Minibatch Loss= 37888.523438, Training Accuracy= 0.97656\n",
      "Iter 162560, Minibatch Loss= 74873.171875, Training Accuracy= 0.97656\n",
      "Iter 163840, Minibatch Loss= 23688.773438, Training Accuracy= 0.98438\n",
      "Iter 165120, Minibatch Loss= 11291.191406, Training Accuracy= 0.99219\n",
      "Iter 166400, Minibatch Loss= 51594.453125, Training Accuracy= 0.97656\n",
      "Iter 167680, Minibatch Loss= 40032.367188, Training Accuracy= 0.96094\n",
      "Iter 168960, Minibatch Loss= 49304.296875, Training Accuracy= 0.97656\n",
      "Iter 170240, Minibatch Loss= 22179.859375, Training Accuracy= 0.98438\n",
      "Iter 171520, Minibatch Loss= 16278.367188, Training Accuracy= 0.97656\n",
      "Iter 172800, Minibatch Loss= 28307.109375, Training Accuracy= 0.96875\n",
      "Iter 174080, Minibatch Loss= 25106.011719, Training Accuracy= 0.98438\n",
      "Iter 175360, Minibatch Loss= 28503.744141, Training Accuracy= 0.97656\n",
      "Iter 176640, Minibatch Loss= 11020.994141, Training Accuracy= 0.99219\n",
      "Iter 177920, Minibatch Loss= 26033.437500, Training Accuracy= 0.97656\n",
      "Iter 179200, Minibatch Loss= 36514.769531, Training Accuracy= 0.99219\n",
      "Iter 180480, Minibatch Loss= 3775.601562, Training Accuracy= 0.99219\n",
      "Iter 181760, Minibatch Loss= 17378.445312, Training Accuracy= 0.98438\n",
      "Iter 183040, Minibatch Loss= 22495.683594, Training Accuracy= 0.99219\n",
      "Iter 184320, Minibatch Loss= 38715.308594, Training Accuracy= 0.97656\n",
      "Iter 185600, Minibatch Loss= 32557.312500, Training Accuracy= 0.97656\n",
      "Iter 186880, Minibatch Loss= 17531.222656, Training Accuracy= 0.96875\n",
      "Iter 188160, Minibatch Loss= 840.527344, Training Accuracy= 0.99219\n",
      "Iter 189440, Minibatch Loss= 28748.886719, Training Accuracy= 0.97656\n",
      "Iter 190720, Minibatch Loss= 9524.625000, Training Accuracy= 0.99219\n",
      "Iter 192000, Minibatch Loss= 31604.921875, Training Accuracy= 0.98438\n",
      "Iter 193280, Minibatch Loss= 64269.035156, Training Accuracy= 0.98438\n",
      "Iter 194560, Minibatch Loss= 20388.566406, Training Accuracy= 0.97656\n",
      "Iter 195840, Minibatch Loss= 0.000000, Training Accuracy= 1.00000\n",
      "Iter 197120, Minibatch Loss= 12066.121094, Training Accuracy= 0.99219\n",
      "Iter 198400, Minibatch Loss= 37627.277344, Training Accuracy= 0.98438\n",
      "Iter 199680, Minibatch Loss= 9524.398438, Training Accuracy= 0.99219\n",
      "Optimization Finished!\n",
      "Testing Accuracy: 0.971071\n"
     ]
    }
   ],
   "source": [
    "# Launch the graph\n",
    "with tf.Session() as sess:\n",
    "    sess.run(init)\n",
    "    step = 1\n",
    "    # Keep training until reach max iterations\n",
    "    while step * batch_size < training_iters:\n",
    "        batch_indices=nr.choice(range(num_train),batch_size)\n",
    "        batch_x=training_images[batch_indices,:]\n",
    "        batch_y=training_labels_onehot[batch_indices,:]\n",
    "        # Run optimization op (backprop)\n",
    "        sess.run(optimizer, feed_dict={x: batch_x, y_: batch_y,keep_prob: dropout1})\n",
    "        if step % display_step == 0:\n",
    "            # Calculate batch loss and accuracy\n",
    "            loss, acc = sess.run([cost, accuracy], feed_dict={x: batch_x,\n",
    "                                                              y_: batch_y,\n",
    "                                                             keep_prob: 1.})\n",
    "            print(\"Iter \" + str(step*batch_size) + \", Minibatch Loss= \" + \\\n",
    "                  \"{:.6f}\".format(loss) + \", Training Accuracy= \" + \\\n",
    "                  \"{:.5f}\".format(acc))\n",
    "        step += 1\n",
    "    print(\"Optimization Finished!\")\n",
    "\n",
    "    # Calculate accuracy for 256 mnist test images\n",
    "    print(\"Testing Accuracy:\", \\\n",
    "        sess.run(accuracy, feed_dict={x: testing_images,\n",
    "                                      y_: testing_labels_onehot,\n",
    "                                     keep_prob: 1.}))"
   ]
  }
 ],
 "metadata": {
  "anaconda-cloud": {},
  "kernelspec": {
   "display_name": "Python 3",
   "language": "python",
   "name": "python3"
  },
  "language_info": {
   "codemirror_mode": {
    "name": "ipython",
    "version": 3
   },
   "file_extension": ".py",
   "mimetype": "text/x-python",
   "name": "python",
   "nbconvert_exporter": "python",
   "pygments_lexer": "ipython3",
   "version": "3.5.2"
  }
 },
 "nbformat": 4,
 "nbformat_minor": 1
}
