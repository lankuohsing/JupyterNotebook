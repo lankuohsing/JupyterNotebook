{
 "cells": [
  {
   "cell_type": "code",
   "execution_count": 1,
   "metadata": {
    "collapsed": false
   },
   "outputs": [
    {
     "name": "stdout",
     "output_type": "stream",
     "text": [
      "def_v_1\n",
      "10\n",
      "False\n"
     ]
    },
    {
     "ename": "SystemExit",
     "evalue": "",
     "output_type": "error",
     "traceback": [
      "An exception has occurred, use %tb to see the full traceback.\n",
      "\u001b[0;31mSystemExit\u001b[0m\n"
     ]
    },
    {
     "name": "stderr",
     "output_type": "stream",
     "text": [
      "D:\\Anaconda3\\lib\\site-packages\\IPython\\core\\interactiveshell.py:2889: UserWarning: To exit: use 'exit', 'quit', or Ctrl-D.\n",
      "  warn(\"To exit: use 'exit', 'quit', or Ctrl-D.\", stacklevel=1)\n"
     ]
    }
   ],
   "source": [
    "import tensorflow as tf\n",
    "\n",
    "#第一个是参数名称，第二个参数是默认值，第三个是参数描述\n",
    "tf.app.flags.DEFINE_string('str_name', 'def_v_1',\"descrip1\")\n",
    "tf.app.flags.DEFINE_integer('int_name', 10,\"descript2\")\n",
    "tf.app.flags.DEFINE_boolean('bool_name', False, \"descript3\")\n",
    "\n",
    "FLAGS = tf.app.flags.FLAGS\n",
    "\n",
    "#必须带参数，否则：'TypeError: main() takes no arguments (1 given)';   main的参数名随意定义，无要求\n",
    "def main(_):  \n",
    "    print(FLAGS.str_name)\n",
    "    print(FLAGS.int_name)\n",
    "    print(FLAGS.bool_name)\n",
    "\n",
    "if __name__ == '__main__':\n",
    "    tf.app.run()  #执行main函数"
   ]
  }
 ],
 "metadata": {
  "anaconda-cloud": {},
  "kernelspec": {
   "display_name": "Python 3",
   "language": "python",
   "name": "python3"
  },
  "language_info": {
   "codemirror_mode": {
    "name": "ipython",
    "version": 3
   },
   "file_extension": ".py",
   "mimetype": "text/x-python",
   "name": "python",
   "nbconvert_exporter": "python",
   "pygments_lexer": "ipython3",
   "version": "3.5.2"
  }
 },
 "nbformat": 4,
 "nbformat_minor": 1
}
