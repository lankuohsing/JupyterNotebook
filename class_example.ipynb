{
 "cells": [
  {
   "cell_type": "code",
   "execution_count": 18,
   "metadata": {
    "collapsed": false
   },
   "outputs": [
    {
     "name": "stdout",
     "output_type": "stream",
     "text": [
      "(Initialize Caroline)\n",
      "my name is Caroline\n",
      "Greetings, my boy friend loves me, Caroline.\n",
      "We have 1 girl friends.\n",
      "(Initialize Wendy)\n",
      "Greetings, my boy friend loves me, Wendy.\n",
      "We have 2 girl friends.\n",
      "['__class__', '__del__', '__delattr__', '__dict__', '__dir__', '__doc__', '__eq__', '__format__', '__ge__', '__getattribute__', '__gt__', '__hash__', '__init__', '__le__', '__lt__', '__module__', '__ne__', '__new__', '__reduce__', '__reduce_ex__', '__repr__', '__setattr__', '__sizeof__', '__str__', '__subclasshook__', '__weakref__', 'howMany', 'name', 'pig', 'population', 'sayLove']\n",
      "['__class__', '__del__', '__delattr__', '__dict__', '__dir__', '__doc__', '__eq__', '__format__', '__ge__', '__getattribute__', '__gt__', '__hash__', '__init__', '__le__', '__lt__', '__module__', '__ne__', '__new__', '__reduce__', '__reduce_ex__', '__repr__', '__setattr__', '__sizeof__', '__str__', '__subclasshook__', '__weakref__', 'howMany', 'population', 'sayLove']\n",
      "Caroline is being destroyed!\n",
      "There are still 1 girl friends.\n",
      "Wendy is being destroyed!\n",
      "Wendy was the last one.\n",
      "We have 0 girl friends.\n"
     ]
    }
   ],
   "source": [
    "# -*- coding: utf-8 -*-  \n",
    "  \n",
    "#====================  \n",
    "#File: ClassExercise.py  \n",
    "#Author: Wendy  \n",
    "#Date: 2014-03-03  \n",
    "#====================  \n",
    "  \n",
    "#eclipse pydev, python2.7  \n",
    "  \n",
    "class GirlFriend(object):  \n",
    "      \n",
    "    population = 0  \n",
    "      \n",
    "    def __init__(self, name):  \n",
    "        self.name = name  \n",
    "        print('(Initialize {0})'.format(self.name))  \n",
    "        GirlFriend.population += 1  \n",
    "      \n",
    "    def __del__(self): #析构器  \n",
    "        print('{0} is being destroyed!'.format(self.name))  \n",
    "        GirlFriend.population -= 1  \n",
    "          \n",
    "        if GirlFriend.population == 0:  \n",
    "            print('{0} was the last one.'.format(self.name))  \n",
    "        else:  \n",
    "            #{0:d} 表示使用10进制输出  \n",
    "            print('There are still {0:d} girl friends.'.format(GirlFriend.population))   \n",
    "              \n",
    "    def sayLove(self):  \n",
    "        print('Greetings, my boy friend loves me, {0}.'.format(self.name))  \n",
    "    def __str__(self):\n",
    "        msg='my name is '+self.name\n",
    "        return msg      \n",
    "    #@staticmethod  \n",
    "    def howMany():  \n",
    "        print('We have {0:d} girl friends.'.format(GirlFriend.population))  \n",
    "    \n",
    "      \n",
    "    howMany = staticmethod(howMany)  \n",
    "      \n",
    "gf1 = GirlFriend('Caroline')  \n",
    "print(gf1)\n",
    "gf1.sayLove()  \n",
    "GirlFriend.howMany()  \n",
    "\n",
    "gf2 = GirlFriend('Wendy')  \n",
    "gf2.sayLove()  \n",
    "GirlFriend.howMany() \n",
    "gf1.pig=1\n",
    "print(dir(gf1))\n",
    "print(dir(GirlFriend))\n",
    "del gf1 #手动调用 程序结束会自动调用析构函数  \n",
    "del gf2  \n",
    "  \n",
    "GirlFriend.howMany()  "
   ]
  },
  {
   "cell_type": "code",
   "execution_count": null,
   "metadata": {
    "collapsed": true
   },
   "outputs": [],
   "source": []
  },
  {
   "cell_type": "code",
   "execution_count": null,
   "metadata": {
    "collapsed": true
   },
   "outputs": [],
   "source": []
  }
 ],
 "metadata": {
  "anaconda-cloud": {},
  "kernelspec": {
   "display_name": "Python 3",
   "language": "python",
   "name": "python3"
  },
  "language_info": {
   "codemirror_mode": {
    "name": "ipython",
    "version": 3
   },
   "file_extension": ".py",
   "mimetype": "text/x-python",
   "name": "python",
   "nbconvert_exporter": "python",
   "pygments_lexer": "ipython3",
   "version": "3.5.2"
  }
 },
 "nbformat": 4,
 "nbformat_minor": 1
}
