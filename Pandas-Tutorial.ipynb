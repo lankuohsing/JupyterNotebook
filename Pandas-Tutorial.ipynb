{
 "cells": [
  {
   "cell_type": "markdown",
   "metadata": {},
   "source": [
    "#Pandas-方便的数据分析库"
   ]
  },
  {
   "cell_type": "code",
   "execution_count": 2,
   "metadata": {
    "collapsed": true
   },
   "outputs": [],
   "source": [
    "import pandas as pd"
   ]
  },
  {
   "cell_type": "markdown",
   "metadata": {},
   "source": [
    "Series和DataFrame是Pandas中最常用的两个对象"
   ]
  },
  {
   "cell_type": "code",
   "execution_count": 3,
   "metadata": {
    "collapsed": false
   },
   "outputs": [
    {
     "name": "stdout",
     "output_type": "stream",
     "text": [
      " 索引： Index(['a', 'b', 'c', 'd', 'e'], dtype='object')\n",
      "值数组： [1 2 3 4 5]\n"
     ]
    }
   ],
   "source": [
    "s=pd.Series([1,2,3,4,5],index=[\"a\",\"b\",\"c\",\"d\",\"e\"])\n",
    "print(\" 索引：\",s.index)\n",
    "print(\"值数组：\",s.values)"
   ]
  },
  {
   "cell_type": "markdown",
   "metadata": {
    "collapsed": true
   },
   "source": [
    "DataFrame对象（数据表）是Pandas中最常用的数据对象.\n",
    "用index_col指定第0和第1列为行索引，用parse_dates指定进行日期转换的列。"
   ]
  },
  {
   "cell_type": "code",
   "execution_count": 13,
   "metadata": {
    "collapsed": false
   },
   "outputs": [
    {
     "data": {
      "text/html": [
       "<div>\n",
       "<style>\n",
       "    .dataframe thead tr:only-child th {\n",
       "        text-align: right;\n",
       "    }\n",
       "\n",
       "    .dataframe thead th {\n",
       "        text-align: left;\n",
       "    }\n",
       "\n",
       "    .dataframe tbody tr th {\n",
       "        vertical-align: top;\n",
       "    }\n",
       "</style>\n",
       "<table border=\"1\" class=\"dataframe\">\n",
       "  <thead>\n",
       "    <tr style=\"text-align: right;\">\n",
       "      <th></th>\n",
       "      <th>Measures</th>\n",
       "      <th>pH</th>\n",
       "      <th>Dens</th>\n",
       "      <th>Ca</th>\n",
       "      <th>Conduc</th>\n",
       "      <th>Date</th>\n",
       "      <th>Name</th>\n",
       "    </tr>\n",
       "    <tr>\n",
       "      <th>Depth</th>\n",
       "      <th>Contour</th>\n",
       "      <th></th>\n",
       "      <th></th>\n",
       "      <th></th>\n",
       "      <th></th>\n",
       "      <th></th>\n",
       "      <th></th>\n",
       "    </tr>\n",
       "  </thead>\n",
       "  <tbody>\n",
       "    <tr>\n",
       "      <th rowspan=\"3\" valign=\"top\">0-10</th>\n",
       "      <th>Depression</th>\n",
       "      <td>5.3525</td>\n",
       "      <td>0.9775</td>\n",
       "      <td>10.6850</td>\n",
       "      <td>1.4725</td>\n",
       "      <td>2015-05-26</td>\n",
       "      <td>Lois</td>\n",
       "    </tr>\n",
       "    <tr>\n",
       "      <th>Slope</th>\n",
       "      <td>5.5075</td>\n",
       "      <td>1.0500</td>\n",
       "      <td>12.2475</td>\n",
       "      <td>2.0500</td>\n",
       "      <td>2015-04-30</td>\n",
       "      <td>Roy</td>\n",
       "    </tr>\n",
       "    <tr>\n",
       "      <th>Top</th>\n",
       "      <td>5.3325</td>\n",
       "      <td>1.0025</td>\n",
       "      <td>13.3850</td>\n",
       "      <td>1.3725</td>\n",
       "      <td>2015-05-21</td>\n",
       "      <td>Roy</td>\n",
       "    </tr>\n",
       "    <tr>\n",
       "      <th rowspan=\"3\" valign=\"top\">10-30</th>\n",
       "      <th>Depression</th>\n",
       "      <td>4.8800</td>\n",
       "      <td>1.3575</td>\n",
       "      <td>7.5475</td>\n",
       "      <td>5.4800</td>\n",
       "      <td>2015-03-21</td>\n",
       "      <td>Lois</td>\n",
       "    </tr>\n",
       "    <tr>\n",
       "      <th>Slope</th>\n",
       "      <td>5.2825</td>\n",
       "      <td>1.3475</td>\n",
       "      <td>9.5150</td>\n",
       "      <td>4.9100</td>\n",
       "      <td>2015-02-06</td>\n",
       "      <td>Diana</td>\n",
       "    </tr>\n",
       "    <tr>\n",
       "      <th>Top</th>\n",
       "      <td>4.8500</td>\n",
       "      <td>1.3325</td>\n",
       "      <td>10.2375</td>\n",
       "      <td>3.5825</td>\n",
       "      <td>2015-04-11</td>\n",
       "      <td>Diana</td>\n",
       "    </tr>\n",
       "  </tbody>\n",
       "</table>\n",
       "</div>"
      ],
      "text/plain": [
       "Measures              pH    Dens       Ca  Conduc       Date   Name\n",
       "Depth Contour                                                      \n",
       "0-10  Depression  5.3525  0.9775  10.6850  1.4725 2015-05-26   Lois\n",
       "      Slope       5.5075  1.0500  12.2475  2.0500 2015-04-30    Roy\n",
       "      Top         5.3325  1.0025  13.3850  1.3725 2015-05-21    Roy\n",
       "10-30 Depression  4.8800  1.3575   7.5475  5.4800 2015-03-21   Lois\n",
       "      Slope       5.2825  1.3475   9.5150  4.9100 2015-02-06  Diana\n",
       "      Top         4.8500  1.3325  10.2375  3.5825 2015-04-11  Diana"
      ]
     },
     "execution_count": 13,
     "metadata": {},
     "output_type": "execute_result"
    }
   ],
   "source": [
    "df_soil=pd.read_csv(\"data/Soils-simple.csv\",index_col=[0,1],parse_dates=[\"Date\"])\n",
    "df_soil.columns.name=\"Measures\"#指定列索引的名称\n",
    "df_soil"
   ]
  },
  {
   "cell_type": "code",
   "execution_count": 7,
   "metadata": {
    "collapsed": false
   },
   "outputs": [
    {
     "name": "stdout",
     "output_type": "stream",
     "text": [
      "Measures\n",
      "pH               float64\n",
      "Dens             float64\n",
      "Ca               float64\n",
      "Conduc           float64\n",
      "Date      datetime64[ns]\n",
      "Name              object\n",
      "dtype: object\n",
      "(6, 6)\n"
     ]
    }
   ],
   "source": [
    "print(df_soil.dtypes)\n",
    "print(df_soil.shape)"
   ]
  },
  {
   "cell_type": "code",
   "execution_count": null,
   "metadata": {
    "collapsed": true
   },
   "outputs": [],
   "source": [
    "DataFrame对象拥有行索引和列索引。index属性保存行索引，columns属性保存列索引。\n",
    "本例中索列索引是一个Index对象，索引对象的名称可以通过其name属性存取。\n",
    "行索引是一个表示多级索引的MultiIndex对象，每级的索引名可以通过names属性存取。"
   ]
  },
  {
   "cell_type": "code",
   "execution_count": 9,
   "metadata": {
    "collapsed": false
   },
   "outputs": [
    {
     "name": "stdout",
     "output_type": "stream",
     "text": [
      "Index(['pH', 'Dens', 'Ca', 'Conduc', 'Date', 'Name'], dtype='object', name='Measures')\n",
      "Measures\n",
      "MultiIndex(levels=[['0-10', '10-30'], ['Depression', 'Slope', 'Top']],\n",
      "           labels=[[0, 0, 0, 1, 1, 1], [0, 1, 2, 0, 1, 2]],\n",
      "           names=['Depth', 'Contour'])\n",
      "['Depth', 'Contour']\n"
     ]
    }
   ],
   "source": [
    "print(df_soil.columns)\n",
    "print(df_soil.columns.name)\n",
    "print(df_soil.index)\n",
    "print(df_soil.index.names)\n"
   ]
  },
  {
   "cell_type": "markdown",
   "metadata": {},
   "source": [
    "[]运算符可以通过列索引标签获取指定的列；.loc[]可通过行索引标签获取指定的行"
   ]
  },
  {
   "cell_type": "code",
   "execution_count": 12,
   "metadata": {
    "collapsed": false
   },
   "outputs": [
    {
     "name": "stdout",
     "output_type": "stream",
     "text": [
      "Depth  Contour   \n",
      "0-10   Depression    5.3525\n",
      "       Slope         5.5075\n",
      "       Top           5.3325\n",
      "10-30  Depression    4.8800\n",
      "       Slope         5.2825\n",
      "       Top           4.8500\n",
      "Name: pH, dtype: float64\n",
      "Measures            Dens       Ca\n",
      "Depth Contour                    \n",
      "0-10  Depression  0.9775  10.6850\n",
      "      Slope       1.0500  12.2475\n",
      "      Top         1.0025  13.3850\n",
      "10-30 Depression  1.3575   7.5475\n",
      "      Slope       1.3475   9.5150\n",
      "      Top         1.3325  10.2375\n"
     ]
    }
   ],
   "source": [
    "print(df_soil[\"pH\"])\n",
    "print(df_soil[[\"Dens\",\"Ca\"]])"
   ]
  },
  {
   "cell_type": "code",
   "execution_count": null,
   "metadata": {
    "collapsed": true
   },
   "outputs": [],
   "source": []
  }
 ],
 "metadata": {
  "anaconda-cloud": {},
  "kernelspec": {
   "display_name": "Python 3",
   "language": "python",
   "name": "python3"
  },
  "language_info": {
   "codemirror_mode": {
    "name": "ipython",
    "version": 3
   },
   "file_extension": ".py",
   "mimetype": "text/x-python",
   "name": "python",
   "nbconvert_exporter": "python",
   "pygments_lexer": "ipython3",
   "version": "3.5.2"
  }
 },
 "nbformat": 4,
 "nbformat_minor": 1
}
