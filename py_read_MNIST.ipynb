{
 "cells": [
  {
   "cell_type": "code",
   "execution_count": 31,
   "metadata": {
    "collapsed": true
   },
   "outputs": [],
   "source": [
    "import os as os\n",
    "import numpy as np\n",
    "from PIL import Image as im\n"
   ]
  },
  {
   "cell_type": "code",
   "execution_count": 32,
   "metadata": {
    "collapsed": false
   },
   "outputs": [],
   "source": [
    "def read_mnist_pictures(dataset_file):\n",
    "    images=[]\n",
    "    labels=[]\n",
    "    i=0\n",
    "    for label in range(10):\n",
    "        pathDir=os.listdir('/Dataset_for_dl/MNIST图片库/'+str(dataset_file)+'/pic2/'+str(label)+'/')\n",
    "        for allDir in pathDir:\n",
    "            child=os.path.join('%s%s' % ('/Dataset_for_dl/MNIST图片库/'+str(dataset_file)+'/pic2/'+str(label)+'/',allDir))\n",
    "            img=im.open(child)\n",
    "            #img=img.resize((16,16))#将图片缩小为16x16\n",
    "            img_array=np.array(img)\n",
    "            img_array=img_array[:,:,0]\n",
    "            images.append\n",
    "            img_array=np.reshape(img_array,-1)\n",
    "            images.append(img_array)\n",
    "            labels.append(label)\n",
    "            i=i+1\n",
    "    images=np.array(images)\n",
    "    labels=np.array(labels)\n",
    "    print(\"The size of \"+dataset_file+\" images:\",i)\n",
    "    return images,labels,i"
   ]
  },
  {
   "cell_type": "code",
   "execution_count": 29,
   "metadata": {
    "collapsed": false
   },
   "outputs": [
    {
     "name": "stdout",
     "output_type": "stream",
     "text": [
      "The size of trainimage images: 60000\n",
      "The size of testimage images: 10000\n"
     ]
    }
   ],
   "source": [
    "train_images,train_labels,num_train=read_mnist_pictures('trainimage')\n",
    "test_images,test_labels,num_test=read_mnist_pictures('testimage')"
   ]
  },
  {
   "cell_type": "code",
   "execution_count": 28,
   "metadata": {
    "collapsed": false
   },
   "outputs": [
    {
     "data": {
      "text/plain": [
       "array([0, 0, 0, ..., 9, 9, 9])"
      ]
     },
     "execution_count": 28,
     "metadata": {},
     "output_type": "execute_result"
    }
   ],
   "source": [
    "train_labels"
   ]
  }
 ],
 "metadata": {
  "anaconda-cloud": {},
  "kernelspec": {
   "display_name": "Python 3",
   "language": "python",
   "name": "python3"
  },
  "language_info": {
   "codemirror_mode": {
    "name": "ipython",
    "version": 3
   },
   "file_extension": ".py",
   "mimetype": "text/x-python",
   "name": "python",
   "nbconvert_exporter": "python",
   "pygments_lexer": "ipython3",
   "version": "3.5.2"
  }
 },
 "nbformat": 4,
 "nbformat_minor": 1
}
