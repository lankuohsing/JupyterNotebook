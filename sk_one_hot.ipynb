{
 "cells": [
  {
   "cell_type": "code",
   "execution_count": 1,
   "metadata": {
    "collapsed": true
   },
   "outputs": [],
   "source": [
    "import numpy as np  \n",
    "from sklearn.preprocessing import OneHotEncoder  \n"
   ]
  },
  {
   "cell_type": "code",
   "execution_count": 2,
   "metadata": {
    "collapsed": false
   },
   "outputs": [
    {
     "name": "stdout",
     "output_type": "stream",
     "text": [
      "enc.n_values_ is: [2 3 4]\n",
      "enc.feature_indices_ is: [0 2 5 9]\n",
      "enc.active_features_ is: [0 1 2 3 4 5 6 7 8]\n",
      "[[ 1.  0.  0.  1.  0.  0.  1.  0.  0.]]\n"
     ]
    }
   ],
   "source": [
    "enc = OneHotEncoder()  \n",
    "enc.fit([[0, 0, 3], [1, 1, 0], [0, 2, 1],[1, 0, 2]])  \n",
    "print(\"enc.n_values_ is:\",enc.n_values_  )\n",
    "print(\"enc.feature_indices_ is:\",enc.feature_indices_  )\n",
    "print(\"enc.active_features_ is:\",enc.active_features_ )\n",
    "print(enc.transform([[0, 1, 1]]).toarray()  )"
   ]
  },
  {
   "cell_type": "code",
   "execution_count": null,
   "metadata": {
    "collapsed": true
   },
   "outputs": [],
   "source": []
  }
 ],
 "metadata": {
  "anaconda-cloud": {},
  "kernelspec": {
   "display_name": "Python 3",
   "language": "python",
   "name": "python3"
  },
  "language_info": {
   "codemirror_mode": {
    "name": "ipython",
    "version": 3
   },
   "file_extension": ".py",
   "mimetype": "text/x-python",
   "name": "python",
   "nbconvert_exporter": "python",
   "pygments_lexer": "ipython3",
   "version": "3.5.2"
  }
 },
 "nbformat": 4,
 "nbformat_minor": 1
}
